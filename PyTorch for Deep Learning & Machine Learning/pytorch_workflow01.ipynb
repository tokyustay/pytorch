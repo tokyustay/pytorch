{
  "nbformat": 4,
  "nbformat_minor": 0,
  "metadata": {
    "colab": {
      "provenance": []
    },
    "kernelspec": {
      "name": "python3",
      "display_name": "Python 3"
    },
    "language_info": {
      "name": "python"
    }
  },
  "cells": [
    {
      "cell_type": "markdown",
      "source": [
        "#pytorch workflow"
      ],
      "metadata": {
        "id": "vQxlqHo_zeKv"
      }
    },
    {
      "cell_type": "code",
      "execution_count": 98,
      "metadata": {
        "colab": {
          "base_uri": "https://localhost:8080/",
          "height": 36
        },
        "id": "3nd885KTzZrA",
        "outputId": "aa949857-32c9-4ac6-b20f-cee4886b77cc"
      },
      "outputs": [
        {
          "output_type": "execute_result",
          "data": {
            "text/plain": [
              "'2.4.0+cu121'"
            ],
            "application/vnd.google.colaboratory.intrinsic+json": {
              "type": "string"
            }
          },
          "metadata": {},
          "execution_count": 98
        }
      ],
      "source": [
        "import torch\n",
        "from torch import nn\n",
        "import matplotlib.pyplot as plt\n",
        "\n",
        "torch.__version__"
      ]
    },
    {
      "cell_type": "markdown",
      "source": [
        "## data preparing and loading"
      ],
      "metadata": {
        "id": "78VAEJj60wg8"
      }
    },
    {
      "cell_type": "code",
      "source": [
        "weight = 0.7\n",
        "bias = 0.3\n",
        "\n",
        "\n",
        "start = 0\n",
        "end = 1\n",
        "step = 0.02\n",
        "x = torch.arange(start, end, step).unsqueeze(dim=1)\n",
        "y = weight * x + bias\n",
        "\n",
        "x[:10], y[:10], len(x), len(y)"
      ],
      "metadata": {
        "colab": {
          "base_uri": "https://localhost:8080/"
        },
        "id": "3VrYeRtP00Ud",
        "outputId": "6892183a-7e80-4432-d2cc-ff8832107707"
      },
      "execution_count": 99,
      "outputs": [
        {
          "output_type": "execute_result",
          "data": {
            "text/plain": [
              "(tensor([[0.0000],\n",
              "         [0.0200],\n",
              "         [0.0400],\n",
              "         [0.0600],\n",
              "         [0.0800],\n",
              "         [0.1000],\n",
              "         [0.1200],\n",
              "         [0.1400],\n",
              "         [0.1600],\n",
              "         [0.1800]]),\n",
              " tensor([[0.3000],\n",
              "         [0.3140],\n",
              "         [0.3280],\n",
              "         [0.3420],\n",
              "         [0.3560],\n",
              "         [0.3700],\n",
              "         [0.3840],\n",
              "         [0.3980],\n",
              "         [0.4120],\n",
              "         [0.4260]]),\n",
              " 50,\n",
              " 50)"
            ]
          },
          "metadata": {},
          "execution_count": 99
        }
      ]
    },
    {
      "cell_type": "markdown",
      "source": [
        "### splitting data into training and test sets"
      ],
      "metadata": {
        "id": "J2ltTM0I4wQp"
      }
    },
    {
      "cell_type": "code",
      "source": [
        "train_split = int(0.8*len(x))\n",
        "x_train, y_train = x[:train_split], y[:train_split]\n",
        "x_test, y_test = x[train_split:], y[train_split:]\n",
        "\n",
        "len(x_train), len(y_train), len(x_test), len(y_test)"
      ],
      "metadata": {
        "colab": {
          "base_uri": "https://localhost:8080/"
        },
        "id": "w7ROXPbi43EQ",
        "outputId": "df342010-15e7-42e8-95ed-cd61e0b7c14e"
      },
      "execution_count": 100,
      "outputs": [
        {
          "output_type": "execute_result",
          "data": {
            "text/plain": [
              "(40, 40, 10, 10)"
            ]
          },
          "metadata": {},
          "execution_count": 100
        }
      ]
    },
    {
      "cell_type": "markdown",
      "source": [
        "### visualize"
      ],
      "metadata": {
        "id": "roXswGkJ6JtX"
      }
    },
    {
      "cell_type": "code",
      "source": [
        "def plot_predictions(train_data = x_train,\n",
        "                     train_labels= y_train,\n",
        "                     test_data = x_test,\n",
        "                     test_labels=y_test,\n",
        "                     predictions=None) :\n",
        "\n",
        "  plt.figure(figsize=(10,7))\n",
        "\n",
        "  plt.scatter(train_data, train_labels, c=\"b\", s=4, label=\"training data\")\n",
        "\n",
        "  plt.scatter(test_data, test_labels, c=\"g\", s=4, label=\"test data\")\n",
        "\n",
        "  if predictions is not None:\n",
        "    plt.scatter(test_data, predictions, c=\"r\", s=4, label=\"predictions\")\n",
        "\n",
        "  plt.legend(prop={\"size\" : 14});\n"
      ],
      "metadata": {
        "id": "keAp-kIM5_sJ"
      },
      "execution_count": 101,
      "outputs": []
    },
    {
      "cell_type": "code",
      "source": [
        "plot_predictions()"
      ],
      "metadata": {
        "colab": {
          "base_uri": "https://localhost:8080/",
          "height": 563
        },
        "id": "VtBmyjCR7awF",
        "outputId": "c3857c33-05a8-4472-aad9-6946338ce0ed"
      },
      "execution_count": 102,
      "outputs": [
        {
          "output_type": "display_data",
          "data": {
            "text/plain": [
              "<Figure size 1000x700 with 1 Axes>"
            ],
            "image/png": "[encoded data removed]"
          },
          "metadata": {}
        }
      ]
    },
    {
      "cell_type": "markdown",
      "source": [
        "## build model"
      ],
      "metadata": {
        "id": "yVpsuwz390VU"
      }
    },
    {
      "cell_type": "code",
      "source": [
        "class linearRegressionModel(nn.Module) :\n",
        "  def __init__(self) :\n",
        "    super().__init__()\n",
        "    self.weights = nn.Parameter(torch.randn(1,\n",
        "                                           requires_grad = True,\n",
        "                                           dtype=torch.float))\n",
        "    self.bias = nn.Parameter(torch.randn(1,\n",
        "                                       requires_grad = True,\n",
        "                                       dtype=torch.float))\n",
        "\n",
        "  def forward(self, x: torch.Tensor) -> torch.Tensor:\n",
        "    return self.weights * x + self.bias"
      ],
      "metadata": {
        "id": "m4vpVtLQ9kTl"
      },
      "execution_count": 103,
      "outputs": []
    },
    {
      "cell_type": "code",
      "source": [
        "torch.manual_seed(42)\n",
        "torch.randn(1)"
      ],
      "metadata": {
        "colab": {
          "base_uri": "https://localhost:8080/"
        },
        "id": "YSK-QLHVPxDi",
        "outputId": "d80b0dbd-3efd-44e5-fa4e-c3531f4fe021"
      },
      "execution_count": 104,
      "outputs": [
        {
          "output_type": "execute_result",
          "data": {
            "text/plain": [
              "tensor([0.3367])"
            ]
          },
          "metadata": {},
          "execution_count": 104
        }
      ]
    },
    {
      "cell_type": "markdown",
      "source": [
        "### pytorch model buulding essentials"
      ],
      "metadata": {
        "id": "yEz1Y-dLOESV"
      }
    },
    {
      "cell_type": "code",
      "source": [
        "# torch.manual_seed(42)\n",
        "\n",
        "model_0 = linearRegressionModel()\n",
        "\n",
        "list(model_0.parameters())"
      ],
      "metadata": {
        "colab": {
          "base_uri": "https://localhost:8080/"
        },
        "id": "thRkGwb_OM-t",
        "outputId": "472b712b-fdd2-46b2-e612-65e10ca6e6c3"
      },
      "execution_count": 105,
      "outputs": [
        {
          "output_type": "execute_result",
          "data": {
            "text/plain": [
              "[Parameter containing:\n",
              " tensor([0.1288], requires_grad=True),\n",
              " Parameter containing:\n",
              " tensor([0.2345], requires_grad=True)]"
            ]
          },
          "metadata": {},
          "execution_count": 105
        }
      ]
    },
    {
      "cell_type": "code",
      "source": [
        "model_0.state_dict()"
      ],
      "metadata": {
        "colab": {
          "base_uri": "https://localhost:8080/"
        },
        "id": "qQ1PPYDHRAcg",
        "outputId": "1ab26df9-29eb-48bc-88e2-475a20aa6474"
      },
      "execution_count": 106,
      "outputs": [
        {
          "output_type": "execute_result",
          "data": {
            "text/plain": [
              "OrderedDict([('weights', tensor([0.1288])), ('bias', tensor([0.2345]))])"
            ]
          },
          "metadata": {},
          "execution_count": 106
        }
      ]
    },
    {
      "cell_type": "code",
      "source": [
        "weight, bias"
      ],
      "metadata": {
        "colab": {
          "base_uri": "https://localhost:8080/"
        },
        "id": "UyDTVjSBRNaI",
        "outputId": "7660cc25-5c4e-4a77-8ade-562e99e647ef"
      },
      "execution_count": 107,
      "outputs": [
        {
          "output_type": "execute_result",
          "data": {
            "text/plain": [
              "(0.7, 0.3)"
            ]
          },
          "metadata": {},
          "execution_count": 107
        }
      ]
    },
    {
      "cell_type": "markdown",
      "source": [
        "### making prediction using torch.inference_mode()"
      ],
      "metadata": {
        "id": "34BZFgPRRjZg"
      }
    },
    {
      "cell_type": "code",
      "source": [
        "with torch.inference_mode():\n",
        "  y_preds = model_0(x_test)\n",
        "\n",
        "with torch.no_grad() :\n",
        "  y_preds = model_0(x_test)\n",
        "\n",
        "y_preds, y_test"
      ],
      "metadata": {
        "colab": {
          "base_uri": "https://localhost:8080/"
        },
        "id": "inGbWhreRjIQ",
        "outputId": "e3d0d92b-77e0-4e46-9521-68c7633ce9c7"
      },
      "execution_count": 108,
      "outputs": [
        {
          "output_type": "execute_result",
          "data": {
            "text/plain": [
              "(tensor([[0.3375],\n",
              "         [0.3401],\n",
              "         [0.3427],\n",
              "         [0.3452],\n",
              "         [0.3478],\n",
              "         [0.3504],\n",
              "         [0.3530],\n",
              "         [0.3555],\n",
              "         [0.3581],\n",
              "         [0.3607]]),\n",
              " tensor([[0.8600],\n",
              "         [0.8740],\n",
              "         [0.8880],\n",
              "         [0.9020],\n",
              "         [0.9160],\n",
              "         [0.9300],\n",
              "         [0.9440],\n",
              "         [0.9580],\n",
              "         [0.9720],\n",
              "         [0.9860]]))"
            ]
          },
          "metadata": {},
          "execution_count": 108
        }
      ]
    },
    {
      "cell_type": "code",
      "source": [
        "plot_predictions(predictions=y_preds)"
      ],
      "metadata": {
        "colab": {
          "base_uri": "https://localhost:8080/",
          "height": 563
        },
        "id": "uV_BHnCiRRGq",
        "outputId": "e700b588-40da-4c64-951f-6c03265c26ae"
      },
      "execution_count": 109,
      "outputs": [
        {
          "output_type": "display_data",
          "data": {
            "text/plain": [
              "<Figure size 1000x700 with 1 Axes>"
            ],
            "image/png": "[encoded data removed]"
          },
          "metadata": {}
        }
      ]
    },
    {
      "cell_type": "markdown",
      "source": [
        "## train model"
      ],
      "metadata": {
        "id": "tqQcRaiMTjRv"
      }
    },
    {
      "cell_type": "code",
      "source": [
        "model_0.state_dict()"
      ],
      "metadata": {
        "colab": {
          "base_uri": "https://localhost:8080/"
        },
        "id": "ph4ble3nWX9M",
        "outputId": "55de8ee9-66ec-463b-9baa-9e03579a9cb9"
      },
      "execution_count": 110,
      "outputs": [
        {
          "output_type": "execute_result",
          "data": {
            "text/plain": [
              "OrderedDict([('weights', tensor([0.1288])), ('bias', tensor([0.2345]))])"
            ]
          },
          "metadata": {},
          "execution_count": 110
        }
      ]
    },
    {
      "cell_type": "code",
      "source": [
        "loss_fn = nn.L1Loss()\n",
        "\n",
        "optimizer = torch.optim.SGD(params = model_0.parameters(),\n",
        "                            lr=0.01)"
      ],
      "metadata": {
        "id": "kK5wmLMeSaKq"
      },
      "execution_count": 111,
      "outputs": []
    },
    {
      "cell_type": "code",
      "source": [
        "\n",
        "loss_fn"
      ],
      "metadata": {
        "colab": {
          "base_uri": "https://localhost:8080/"
        },
        "id": "98zK2BtDVhNg",
        "outputId": "7743565c-ead5-4744-cef5-7b208c6825a6"
      },
      "execution_count": 112,
      "outputs": [
        {
          "output_type": "execute_result",
          "data": {
            "text/plain": [
              "L1Loss()"
            ]
          },
          "metadata": {},
          "execution_count": 112
        }
      ]
    },
    {
      "cell_type": "code",
      "source": [
        "# torch.manual_seed(42)\n",
        "epochs = 200\n",
        "\n",
        "epoch_count = []\n",
        "loss_values = []\n",
        "test_loss_values = []\n",
        "\n",
        "\n",
        "for epoch in range(epochs) :\n",
        "  model_0.train()\n",
        "\n",
        "  y_pred = model_0(x_train)\n",
        "\n",
        "  loss = loss_fn(y_pred, y_train)\n",
        "\n",
        "  optimizer.zero_grad()\n",
        "\n",
        "  loss.backward()\n",
        "\n",
        "  optimizer.step()\n",
        "\n",
        "  print(f\"loss : {loss}\")\n",
        "\n",
        "  model_0.eval()\n",
        "  with torch.inference_mode() :\n",
        "    test_pred = model_0(x_test)\n",
        "    test_loss = loss_fn(test_pred, y_test)\n",
        "  if epoch % 10 == 0 :\n",
        "    epoch_count.append(epoch)\n",
        "    loss_values.append(loss)\n",
        "    test_loss_values.append(test_loss)\n",
        "    print(f\"epoch : {epoch} test loss : {test_loss}\")\n",
        "    print(model_0.state_dict())"
      ],
      "metadata": {
        "colab": {
          "base_uri": "https://localhost:8080/"
        },
        "id": "llVOCqDSiEvZ",
        "outputId": "fe908c78-b0e7-4282-b2c1-5f8003e9858b"
      },
      "execution_count": 113,
      "outputs": [
        {
          "output_type": "stream",
          "name": "stdout",
          "text": [
            "loss : 0.288301944732666\n",
            "epoch : 0 test loss : 0.5604262351989746\n",
            "OrderedDict([('weights', tensor([0.1327])), ('bias', tensor([0.2445]))])\n",
            "loss : 0.27678096294403076\n",
            "loss : 0.2652599513530731\n",
            "loss : 0.25373896956443787\n",
            "loss : 0.24221797287464142\n",
            "loss : 0.23069699108600616\n",
            "loss : 0.2191760092973709\n",
            "loss : 0.20787811279296875\n",
            "loss : 0.19749024510383606\n",
            "loss : 0.1879529505968094\n",
            "loss : 0.1792302429676056\n",
            "epoch : 10 test loss : 0.43027859926223755\n",
            "OrderedDict([('weights', tensor([0.1716])), ('bias', tensor([0.3400]))])\n",
            "loss : 0.17092058062553406\n",
            "loss : 0.163346067070961\n",
            "loss : 0.15644659101963043\n",
            "loss : 0.15016160905361176\n",
            "loss : 0.14457502961158752\n",
            "loss : 0.13919438421726227\n",
            "loss : 0.13430927693843842\n",
            "loss : 0.13003113865852356\n",
            "loss : 0.12588608264923096\n",
            "loss : 0.12219583988189697\n",
            "epoch : 20 test loss : 0.3354092538356781\n",
            "OrderedDict([('weights', tensor([0.2080])), ('bias', tensor([0.4025]))])\n",
            "loss : 0.11870880424976349\n",
            "loss : 0.11556152999401093\n",
            "loss : 0.11264920234680176\n",
            "loss : 0.10999944061040878\n",
            "loss : 0.10757707059383392\n",
            "loss : 0.10537862777709961\n",
            "loss : 0.1033598780632019\n",
            "loss : 0.10156586021184921\n",
            "loss : 0.0998627096414566\n",
            "loss : 0.09842546284198761\n",
            "epoch : 30 test loss : 0.2727302312850952\n",
            "OrderedDict([('weights', tensor([0.2391])), ('bias', tensor([0.4375]))])\n",
            "loss : 0.09698821604251862\n",
            "loss : 0.09567846357822418\n",
            "loss : 0.09454946219921112\n",
            "loss : 0.09342047572135925\n",
            "loss : 0.0923905298113823\n",
            "loss : 0.09152038395404816\n",
            "loss : 0.09065021574497223\n",
            "loss : 0.08978373557329178\n",
            "loss : 0.08912204205989838\n",
            "loss : 0.08846035599708557\n",
            "epoch : 40 test loss : 0.23387503623962402\n",
            "OrderedDict([('weights', tensor([0.2648])), ('bias', tensor([0.4535]))])\n",
            "loss : 0.08779866248369217\n",
            "loss : 0.08713697642087936\n",
            "loss : 0.08649992942810059\n",
            "loss : 0.08599532395601273\n",
            "loss : 0.08549071103334427\n",
            "loss : 0.08498610556125641\n",
            "loss : 0.08448150008916855\n",
            "loss : 0.08397688716650009\n",
            "loss : 0.08347227424383163\n",
            "loss : 0.08302811533212662\n",
            "epoch : 50 test loss : 0.20873284339904785\n",
            "OrderedDict([('weights', tensor([0.2869])), ('bias', tensor([0.4590]))])\n",
            "loss : 0.08262811601161957\n",
            "loss : 0.08222811669111252\n",
            "loss : 0.08182810992002487\n",
            "loss : 0.08142811805009842\n",
            "loss : 0.08102811872959137\n",
            "loss : 0.08062811195850372\n",
            "loss : 0.08022811263799667\n",
            "loss : 0.07982812076807022\n",
            "loss : 0.07943341881036758\n",
            "loss : 0.07908441126346588\n",
            "epoch : 60 test loss : 0.19228880107402802\n",
            "OrderedDict([('weights', tensor([0.3065])), ('bias', tensor([0.4580]))])\n",
            "loss : 0.07873539626598358\n",
            "loss : 0.07838641107082367\n",
            "loss : 0.07803741842508316\n",
            "loss : 0.07768841087818146\n",
            "loss : 0.07733941823244095\n",
            "loss : 0.07699041068553925\n",
            "loss : 0.07664141058921814\n",
            "loss : 0.07629241049289703\n",
            "loss : 0.07594341039657593\n",
            "loss : 0.07559441030025482\n",
            "epoch : 70 test loss : 0.18126873672008514\n",
            "OrderedDict([('weights', tensor([0.3245])), ('bias', tensor([0.4530]))])\n",
            "loss : 0.07524540275335312\n",
            "loss : 0.07489641010761261\n",
            "loss : 0.0745474100112915\n",
            "loss : 0.0741984099149704\n",
            "loss : 0.07384941726922989\n",
            "loss : 0.07350041717290878\n",
            "loss : 0.07315141707658768\n",
            "loss : 0.07280240952968597\n",
            "loss : 0.07245341688394547\n",
            "loss : 0.07210441678762436\n",
            "epoch : 80 test loss : 0.17024867236614227\n",
            "OrderedDict([('weights', tensor([0.3425])), ('bias', tensor([0.4480]))])\n",
            "loss : 0.07175541669130325\n",
            "loss : 0.07140641659498215\n",
            "loss : 0.07105741649866104\n",
            "loss : 0.07070842385292053\n",
            "loss : 0.07035941630601883\n",
            "loss : 0.07001040875911713\n",
            "loss : 0.06966142356395721\n",
            "loss : 0.06931241601705551\n",
            "loss : 0.068963423371315\n",
            "loss : 0.06861938536167145\n",
            "epoch : 90 test loss : 0.1599154770374298\n",
            "OrderedDict([('weights', tensor([0.3602])), ('bias', tensor([0.4425]))])\n",
            "loss : 0.06827821582555771\n",
            "loss : 0.06793037801980972\n",
            "loss : 0.06759301573038101\n",
            "loss : 0.0672440156340599\n",
            "loss : 0.066905178129673\n",
            "loss : 0.06655881553888321\n",
            "loss : 0.06621615588665009\n",
            "loss : 0.06587361544370651\n",
            "loss : 0.06552714854478836\n",
            "loss : 0.06518840789794922\n",
            "epoch : 100 test loss : 0.15164294838905334\n",
            "OrderedDict([('weights', tensor([0.3774])), ('bias', tensor([0.4355]))])\n",
            "loss : 0.06483940780162811\n",
            "loss : 0.06450194120407104\n",
            "loss : 0.06415420770645142\n",
            "loss : 0.06381292641162872\n",
            "loss : 0.06346900761127472\n",
            "loss : 0.063123919069767\n",
            "loss : 0.06278380006551743\n",
            "loss : 0.06243491172790527\n",
            "loss : 0.06209860369563103\n",
            "loss : 0.06174959987401962\n",
            "epoch : 110 test loss : 0.14337040483951569\n",
            "OrderedDict([('weights', tensor([0.3946])), ('bias', tensor([0.4285]))])\n",
            "loss : 0.06140970066189766\n",
            "loss : 0.061064403504133224\n",
            "loss : 0.060720689594745636\n",
            "loss : 0.06037919595837593\n",
            "loss : 0.060031674802303314\n",
            "loss : 0.05969400331377983\n",
            "loss : 0.05934500694274902\n",
            "loss : 0.0590064637362957\n",
            "loss : 0.05865979939699173\n",
            "loss : 0.05831745266914368\n",
            "epoch : 120 test loss : 0.13578474521636963\n",
            "OrderedDict([('weights', tensor([0.4115])), ('bias', tensor([0.4210]))])\n",
            "loss : 0.057974595576524734\n",
            "loss : 0.05762845277786255\n",
            "loss : 0.05728939175605774\n",
            "loss : 0.056940387934446335\n",
            "loss : 0.05660323426127434\n",
            "loss : 0.05625518411397934\n",
            "loss : 0.05591423436999321\n",
            "loss : 0.05556999519467354\n",
            "loss : 0.05522521212697029\n",
            "loss : 0.05488479137420654\n",
            "epoch : 130 test loss : 0.12751218676567078\n",
            "OrderedDict([('weights', tensor([0.4287])), ('bias', tensor([0.4140]))])\n",
            "loss : 0.05453621223568916\n",
            "loss : 0.05419958755373955\n",
            "loss : 0.05385058373212814\n",
            "loss : 0.05351100116968155\n",
            "loss : 0.05316539481282234\n",
            "loss : 0.05282198265194893\n",
            "loss : 0.05248017981648445\n",
            "loss : 0.052132975310087204\n",
            "loss : 0.05179498344659805\n",
            "loss : 0.05144598335027695\n",
            "epoch : 140 test loss : 0.11923966556787491\n",
            "OrderedDict([('weights', tensor([0.4458])), ('bias', tensor([0.4070]))])\n",
            "loss : 0.05110776424407959\n",
            "loss : 0.05076078325510025\n",
            "loss : 0.05041874572634697\n",
            "loss : 0.050075579434633255\n",
            "loss : 0.04972975328564644\n",
            "loss : 0.04939038306474686\n",
            "loss : 0.04904137924313545\n",
            "loss : 0.048704538494348526\n",
            "loss : 0.048356179147958755\n",
            "loss : 0.0480155274271965\n",
            "epoch : 150 test loss : 0.11165399849414825\n",
            "OrderedDict([('weights', tensor([0.4628])), ('bias', tensor([0.3995]))])\n",
            "loss : 0.04767097160220146\n",
            "loss : 0.04732651263475418\n",
            "loss : 0.046985775232315063\n",
            "loss : 0.04663750156760216\n",
            "loss : 0.04630056768655777\n",
            "loss : 0.04595157131552696\n",
            "loss : 0.04561229422688484\n",
            "loss : 0.045266371220350266\n",
            "loss : 0.04492328688502312\n",
            "loss : 0.04458116739988327\n",
            "epoch : 160 test loss : 0.1033814549446106\n",
            "OrderedDict([('weights', tensor([0.4799])), ('bias', tensor([0.3925]))])\n",
            "loss : 0.044234275817871094\n",
            "loss : 0.043895967304706573\n",
            "loss : 0.04354696720838547\n",
            "loss : 0.04320907220244408\n",
            "loss : 0.04286176711320877\n",
            "loss : 0.042520053684711456\n",
            "loss : 0.042176567018032074\n",
            "loss : 0.04183104634284973\n",
            "loss : 0.04149136692285538\n",
            "loss : 0.04114236310124397\n",
            "epoch : 170 test loss : 0.09510891139507294\n",
            "OrderedDict([('weights', tensor([0.4971])), ('bias', tensor([0.3855]))])\n",
            "loss : 0.04080583527684212\n",
            "loss : 0.04045717418193817\n",
            "loss : 0.040116820484399796\n",
            "loss : 0.03977196291089058\n",
            "loss : 0.03942781686782837\n",
            "loss : 0.03908676654100418\n",
            "loss : 0.038738809525966644\n",
            "loss : 0.03840155899524689\n",
            "loss : 0.03805256634950638\n",
            "loss : 0.03771359845995903\n",
            "epoch : 180 test loss : 0.08752329647541046\n",
            "OrderedDict([('weights', tensor([0.5141])), ('bias', tensor([0.3780]))])\n",
            "loss : 0.03736735135316849\n",
            "loss : 0.037024591118097305\n",
            "loss : 0.036682166159152985\n",
            "loss : 0.036335576325654984\n",
            "loss : 0.03599695861339569\n",
            "loss : 0.03564796596765518\n",
            "loss : 0.03531036898493767\n",
            "loss : 0.03496275469660759\n",
            "loss : 0.034621357917785645\n",
            "loss : 0.03427756205201149\n",
            "epoch : 190 test loss : 0.07925073802471161\n",
            "OrderedDict([('weights', tensor([0.5312])), ('bias', tensor([0.3710]))])\n",
            "loss : 0.03393235057592392\n",
            "loss : 0.0335923507809639\n",
            "loss : 0.03324335813522339\n",
            "loss : 0.03290713578462601\n",
            "loss : 0.03255815431475639\n",
            "loss : 0.03221812844276428\n",
            "loss : 0.0318729504942894\n",
            "loss : 0.03152911365032196\n",
            "loss : 0.031187754124403\n"
          ]
        }
      ]
    },
    {
      "cell_type": "code",
      "source": [
        "with torch.no_grad() :\n",
        "  y_preds_new = model_0(x_test)\n",
        "\n",
        "plot_predictions(predictions=y_preds_new)"
      ],
      "metadata": {
        "colab": {
          "base_uri": "https://localhost:8080/",
          "height": 563
        },
        "id": "GHDp11Toon6y",
        "outputId": "2d0d2712-3508-4d04-df80-d072702ecff1"
      },
      "execution_count": 114,
      "outputs": [
        {
          "output_type": "display_data",
          "data": {
            "text/plain": [
              "<Figure size 1000x700 with 1 Axes>"
            ],
            "image/png": "[encoded data removed]"
          },
          "metadata": {}
        }
      ]
    },
    {
      "cell_type": "code",
      "source": [
        "\n",
        "plot_predictions(predictions=y_preds)"
      ],
      "metadata": {
        "colab": {
          "base_uri": "https://localhost:8080/",
          "height": 563
        },
        "id": "TnM0H1gVphOO",
        "outputId": "15a2d98e-d72d-42b2-d3f2-68c08890d639"
      },
      "execution_count": 115,
      "outputs": [
        {
          "output_type": "display_data",
          "data": {
            "text/plain": [
              "<Figure size 1000x700 with 1 Axes>"
            ],
            "image/png": "[encoded data removed]"
          },
          "metadata": {}
        }
      ]
    },
    {
      "cell_type": "code",
      "source": [
        "loss_values, test_loss_values"
      ],
      "metadata": {
        "colab": {
          "base_uri": "https://localhost:8080/"
        },
        "id": "hUMxXTqqtq1R",
        "outputId": "5737924e-b32b-490a-fa32-10a553768d2b"
      },
      "execution_count": 116,
      "outputs": [
        {
          "output_type": "execute_result",
          "data": {
            "text/plain": [
              "([tensor(0.2883, grad_fn=<MeanBackward0>),\n",
              "  tensor(0.1792, grad_fn=<MeanBackward0>),\n",
              "  tensor(0.1222, grad_fn=<MeanBackward0>),\n",
              "  tensor(0.0984, grad_fn=<MeanBackward0>),\n",
              "  tensor(0.0885, grad_fn=<MeanBackward0>),\n",
              "  tensor(0.0830, grad_fn=<MeanBackward0>),\n",
              "  tensor(0.0791, grad_fn=<MeanBackward0>),\n",
              "  tensor(0.0756, grad_fn=<MeanBackward0>),\n",
              "  tensor(0.0721, grad_fn=<MeanBackward0>),\n",
              "  tensor(0.0686, grad_fn=<MeanBackward0>),\n",
              "  tensor(0.0652, grad_fn=<MeanBackward0>),\n",
              "  tensor(0.0617, grad_fn=<MeanBackward0>),\n",
              "  tensor(0.0583, grad_fn=<MeanBackward0>),\n",
              "  tensor(0.0549, grad_fn=<MeanBackward0>),\n",
              "  tensor(0.0514, grad_fn=<MeanBackward0>),\n",
              "  tensor(0.0480, grad_fn=<MeanBackward0>),\n",
              "  tensor(0.0446, grad_fn=<MeanBackward0>),\n",
              "  tensor(0.0411, grad_fn=<MeanBackward0>),\n",
              "  tensor(0.0377, grad_fn=<MeanBackward0>),\n",
              "  tensor(0.0343, grad_fn=<MeanBackward0>)],\n",
              " [tensor(0.5604),\n",
              "  tensor(0.4303),\n",
              "  tensor(0.3354),\n",
              "  tensor(0.2727),\n",
              "  tensor(0.2339),\n",
              "  tensor(0.2087),\n",
              "  tensor(0.1923),\n",
              "  tensor(0.1813),\n",
              "  tensor(0.1702),\n",
              "  tensor(0.1599),\n",
              "  tensor(0.1516),\n",
              "  tensor(0.1434),\n",
              "  tensor(0.1358),\n",
              "  tensor(0.1275),\n",
              "  tensor(0.1192),\n",
              "  tensor(0.1117),\n",
              "  tensor(0.1034),\n",
              "  tensor(0.0951),\n",
              "  tensor(0.0875),\n",
              "  tensor(0.0793)])"
            ]
          },
          "metadata": {},
          "execution_count": 116
        }
      ]
    },
    {
      "cell_type": "code",
      "source": [
        "import numpy as np\n",
        "np.array(torch.tensor(loss_values).cpu().numpy())\n",
        "\n",
        "plt.plot(epoch_count, np.array(torch.tensor(loss_values).cpu().numpy()), label=\"train loss\")\n",
        "plt.plot(epoch_count, test_loss_values, label=\"test loss\")\n",
        "plt.title(\"train and test loss curves\")\n",
        "plt.ylabel(\"loss\")\n",
        "plt.xlabel(\"epochs\")\n",
        "plt.legend()"
      ],
      "metadata": {
        "colab": {
          "base_uri": "https://localhost:8080/",
          "height": 491
        },
        "id": "jEFBpKm8qEYQ",
        "outputId": "3d3d10cf-8443-4093-9365-d228e6361c4c"
      },
      "execution_count": 117,
      "outputs": [
        {
          "output_type": "execute_result",
          "data": {
            "text/plain": [
              "<matplotlib.legend.Legend at 0x798d7cf9b8e0>"
            ]
          },
          "metadata": {},
          "execution_count": 117
        },
        {
          "output_type": "display_data",
          "data": {
            "text/plain": [
              "<Figure size 640x480 with 1 Axes>"
            ],
            "image/png": "[encoded data removed]"
          },
          "metadata": {}
        }
      ]
    }
  ]
}