{
  "nbformat": 4,
  "nbformat_minor": 0,
  "metadata": {
    "colab": {
      "provenance": [],
      "collapsed_sections": [
        "CTWbIJ_k0at9",
        "ItMlZfL_AVVv"
      ],
      "gpuType": "T4"
    },
    "kernelspec": {
      "name": "python3",
      "display_name": "Python 3"
    },
    "language_info": {
      "name": "python"
    },
    "accelerator": "GPU"
  },
  "cells": [
    {
      "cell_type": "markdown",
      "source": [
        "# PyTorch Tutorials"
      ],
      "metadata": {
        "id": "9NMLn7NQ0Ok3"
      }
    },
    {
      "cell_type": "markdown",
      "source": [
        "# 01 Tensor Basis"
      ],
      "metadata": {
        "id": "CTWbIJ_k0at9"
      }
    },
    {
      "cell_type": "code",
      "execution_count": 1,
      "metadata": {
        "colab": {
          "base_uri": "https://localhost:8080/"
        },
        "id": "8795eSDNzOML",
        "outputId": "354b648e-aca0-4fa0-e86d-ce8499fe7b07"
      },
      "outputs": [
        {
          "output_type": "stream",
          "name": "stdout",
          "text": [
            "tensor([[[[1047687288,        355,          0],\n",
            "          [         0,        512,        512]],\n",
            "\n",
            "         [[     29440,    1635072,    8454144],\n",
            "          [ 123535484,   24904061,     786538]]],\n",
            "\n",
            "\n",
            "        [[[     65622,    6554225,  326238291],\n",
            "          [1912602624,         51,      13682]],\n",
            "\n",
            "         [[   1602048,  410124288, 1912602624],\n",
            "          [        25,       6770,      54528]]]], dtype=torch.int32)\n",
            "torch.int32\n",
            "torch.Size([2, 2, 2, 3])\n"
          ]
        }
      ],
      "source": [
        "import torch\n",
        "\n",
        "x = torch.empty(2, 2, 2, 3, dtype=torch.int)\n",
        "print(x)\n",
        "print(x.dtype)\n",
        "print(x.size())"
      ]
    },
    {
      "cell_type": "code",
      "source": [
        "x= torch.rand(2,2)\n",
        "y = torch.rand(2,2)\n",
        "print(x)\n",
        "print(y)\n",
        "print(torch.add(x,y))\n",
        "print(y.add_(x))\n",
        "print(torch.sub(x,y))\n",
        "print(x.sub_(y))\n",
        "print(torch.mul(x,y))\n",
        "print(x.mul_(y))\n",
        "print(torch.div(x,y))\n",
        "print(x.div_(y))"
      ],
      "metadata": {
        "colab": {
          "base_uri": "https://localhost:8080/"
        },
        "id": "cl0Fxcmi7-rA",
        "outputId": "5ac8240c-4d72-49f8-c740-be6efa391c48"
      },
      "execution_count": 2,
      "outputs": [
        {
          "output_type": "stream",
          "name": "stdout",
          "text": [
            "tensor([[0.1316, 0.0881],\n",
            "        [0.3134, 0.8592]])\n",
            "tensor([[0.7745, 0.3377],\n",
            "        [0.3128, 0.0061]])\n",
            "tensor([[0.9061, 0.4258],\n",
            "        [0.6262, 0.8653]])\n",
            "tensor([[0.9061, 0.4258],\n",
            "        [0.6262, 0.8653]])\n",
            "tensor([[-0.7745, -0.3377],\n",
            "        [-0.3128, -0.0061]])\n",
            "tensor([[-0.7745, -0.3377],\n",
            "        [-0.3128, -0.0061]])\n",
            "tensor([[-0.7018, -0.1438],\n",
            "        [-0.1959, -0.0053]])\n",
            "tensor([[-0.7018, -0.1438],\n",
            "        [-0.1959, -0.0053]])\n",
            "tensor([[-0.7745, -0.3377],\n",
            "        [-0.3128, -0.0061]])\n",
            "tensor([[-0.7745, -0.3377],\n",
            "        [-0.3128, -0.0061]])\n"
          ]
        }
      ]
    },
    {
      "cell_type": "code",
      "source": [
        "x = torch.rand(5,3)\n",
        "print(x)\n",
        "print(x[:,0])\n",
        "print(x[1, :])\n",
        "print(x[1,1].item())"
      ],
      "metadata": {
        "colab": {
          "base_uri": "https://localhost:8080/"
        },
        "id": "hqZqbcLH8qfZ",
        "outputId": "353fdc24-28cd-4e93-f86a-0973cc72e080"
      },
      "execution_count": 3,
      "outputs": [
        {
          "output_type": "stream",
          "name": "stdout",
          "text": [
            "tensor([[0.5997, 0.1295, 0.8019],\n",
            "        [0.9433, 0.7782, 0.4380],\n",
            "        [0.7624, 0.4638, 0.6506],\n",
            "        [0.5864, 0.8766, 0.5565],\n",
            "        [0.3984, 0.9545, 0.8698]])\n",
            "tensor([0.5997, 0.9433, 0.7624, 0.5864, 0.3984])\n",
            "tensor([0.9433, 0.7782, 0.4380])\n",
            "0.7782362699508667\n"
          ]
        }
      ]
    },
    {
      "cell_type": "code",
      "source": [
        "x = torch.rand(4,4)\n",
        "y = x.view(16)\n",
        "print(y)\n",
        "y = x.view(-1, 8)\n",
        "print(y)"
      ],
      "metadata": {
        "colab": {
          "base_uri": "https://localhost:8080/"
        },
        "id": "7TFYMXAC9LMU",
        "outputId": "2879a495-4a98-4a2e-d6c6-3773114df403"
      },
      "execution_count": 4,
      "outputs": [
        {
          "output_type": "stream",
          "name": "stdout",
          "text": [
            "tensor([0.9093, 0.8013, 0.7373, 0.0124, 0.0533, 0.4851, 0.2582, 0.9387, 0.8229,\n",
            "        0.0892, 0.5821, 0.6459, 0.6551, 0.0165, 0.5854, 0.5937])\n",
            "tensor([[0.9093, 0.8013, 0.7373, 0.0124, 0.0533, 0.4851, 0.2582, 0.9387],\n",
            "        [0.8229, 0.0892, 0.5821, 0.6459, 0.6551, 0.0165, 0.5854, 0.5937]])\n"
          ]
        }
      ]
    },
    {
      "cell_type": "code",
      "source": [
        "import numpy as np\n",
        "\n",
        "a = torch.ones(5)\n",
        "print(a)\n",
        "b = a.numpy()\n",
        "print(type(b))\n",
        "\n",
        "a.add_(1)\n",
        "print(a)\n",
        "print(b)\n",
        "\n",
        "a = np.ones(5)\n",
        "print(a)\n",
        "b = torch.from_numpy(a)\n",
        "print(type(b))\n",
        "\n",
        "a += 1\n",
        "print(a)\n",
        "print(b)"
      ],
      "metadata": {
        "colab": {
          "base_uri": "https://localhost:8080/"
        },
        "id": "6s4BTR_g9fDz",
        "outputId": "df83931e-2348-4db1-d09e-7323e271aef7"
      },
      "execution_count": 5,
      "outputs": [
        {
          "output_type": "stream",
          "name": "stdout",
          "text": [
            "tensor([1., 1., 1., 1., 1.])\n",
            "<class 'numpy.ndarray'>\n",
            "tensor([2., 2., 2., 2., 2.])\n",
            "[2. 2. 2. 2. 2.]\n",
            "[1. 1. 1. 1. 1.]\n",
            "<class 'torch.Tensor'>\n",
            "[2. 2. 2. 2. 2.]\n",
            "tensor([2., 2., 2., 2., 2.], dtype=torch.float64)\n"
          ]
        }
      ]
    },
    {
      "cell_type": "code",
      "source": [
        "if torch.cuda.is_available():\n",
        "  device = torch.device(\"cuda\")\n",
        "  x = torch.ones(5, device=device)\n",
        "  y = torch.ones(5)\n",
        "  y = y.to(device)\n",
        "  z = x + y\n",
        "  print(z)\n",
        "  print(z.to(\"cpu\"))\n",
        "else:\n",
        "  print(\"CUDA is not available.\")"
      ],
      "metadata": {
        "colab": {
          "base_uri": "https://localhost:8080/"
        },
        "id": "Jygms3Op-GbX",
        "outputId": "74922112-9aac-4933-d74b-85be3f86d54f"
      },
      "execution_count": 6,
      "outputs": [
        {
          "output_type": "stream",
          "name": "stdout",
          "text": [
            "tensor([2., 2., 2., 2., 2.], device='cuda:0')\n",
            "tensor([2., 2., 2., 2., 2.])\n"
          ]
        }
      ]
    },
    {
      "cell_type": "code",
      "source": [
        "x = torch.ones(5, requires_grad=True)\n",
        "print(x)"
      ],
      "metadata": {
        "colab": {
          "base_uri": "https://localhost:8080/"
        },
        "id": "mlterwR9-gf0",
        "outputId": "e0585394-6c88-49ed-bddd-01837696b235"
      },
      "execution_count": 7,
      "outputs": [
        {
          "output_type": "stream",
          "name": "stdout",
          "text": [
            "tensor([1., 1., 1., 1., 1.], requires_grad=True)\n"
          ]
        }
      ]
    },
    {
      "cell_type": "markdown",
      "source": [
        "# 02 Gradient Calculation With Autograd"
      ],
      "metadata": {
        "id": "ItMlZfL_AVVv"
      }
    },
    {
      "cell_type": "code",
      "source": [
        "x = torch.randn(3, requires_grad = True)\n",
        "print(x)\n",
        "\n",
        "y = x+2\n",
        "print(y)\n",
        "z = y*y*2\n",
        "print(z)\n",
        "z= z.mean()\n",
        "print(z)\n",
        "\n",
        "z.backward() # dz/dx\n",
        "print(x.grad)"
      ],
      "metadata": {
        "colab": {
          "base_uri": "https://localhost:8080/"
        },
        "id": "s1kAzTtMAcfo",
        "outputId": "2c363c14-3915-4426-8298-17f6c7a5b065"
      },
      "execution_count": 16,
      "outputs": [
        {
          "output_type": "stream",
          "name": "stdout",
          "text": [
            "tensor([-1.1841,  0.1370, -0.2937], requires_grad=True)\n",
            "tensor([0.8159, 2.1370, 1.7063], grad_fn=<AddBackward0>)\n",
            "tensor([1.3315, 9.1331, 5.8226], grad_fn=<MulBackward0>)\n",
            "tensor(5.4291, grad_fn=<MeanBackward0>)\n",
            "tensor([1.0879, 2.8493, 2.2750])\n"
          ]
        }
      ]
    },
    {
      "cell_type": "code",
      "source": [
        "x = torch.randn(3, requires_grad = True)\n",
        "print(x)\n",
        "\n",
        "y = x+2\n",
        "print(y)\n",
        "z = y*y*2\n",
        "print(z)\n",
        "# z= z.mean()\n",
        "print(z)\n",
        "\n",
        "v = torch.tensor([0.1,1.0,0.001], dtype = torch.float32)\n",
        "z.backward(v) # dz/dx\n",
        "print(x.grad)"
      ],
      "metadata": {
        "colab": {
          "base_uri": "https://localhost:8080/"
        },
        "id": "Y0-4NBnRB2y3",
        "outputId": "9599b090-4ab2-476c-b520-8d48bb632eed"
      },
      "execution_count": 18,
      "outputs": [
        {
          "output_type": "stream",
          "name": "stdout",
          "text": [
            "tensor([ 1.3029, -0.7210, -0.9902], requires_grad=True)\n",
            "tensor([3.3029, 1.2790, 1.0098], grad_fn=<AddBackward0>)\n",
            "tensor([21.8188,  3.2717,  2.0392], grad_fn=<MulBackward0>)\n",
            "tensor([21.8188,  3.2717,  2.0392], grad_fn=<MulBackward0>)\n",
            "tensor([1.3212e+00, 5.1160e+00, 4.0390e-03])\n"
          ]
        }
      ]
    },
    {
      "cell_type": "code",
      "source": [
        "x = torch.randn(3, requires_grad = True)\n",
        "print(x)\n",
        "\n",
        "# x,requires_grad_(False)\n",
        "# x.detach()\n",
        "# with torch.no_grad() :\n",
        "\n",
        "x.requires_grad_(False)\n",
        "print(x)\n",
        "y = x.detach()\n",
        "print(y)\n",
        "with torch.no_grad():\n",
        "  y = x + 2\n",
        "  print(y)"
      ],
      "metadata": {
        "colab": {
          "base_uri": "https://localhost:8080/"
        },
        "id": "wUEK76MNCKVe",
        "outputId": "8a872a21-8471-4f0e-e172-257e4d2c4224"
      },
      "execution_count": 20,
      "outputs": [
        {
          "output_type": "stream",
          "name": "stdout",
          "text": [
            "tensor([-0.8342, -0.1007,  0.5341], requires_grad=True)\n",
            "tensor([-0.8342, -0.1007,  0.5341])\n",
            "tensor([-0.8342, -0.1007,  0.5341])\n",
            "tensor([1.1658, 1.8993, 2.5341])\n"
          ]
        }
      ]
    },
    {
      "cell_type": "code",
      "source": [
        "weights = torch.ones(4, requires_grad = True)\n",
        "\n",
        "for epoch in range(3):\n",
        "  model_output = (weights*3).sum()\n",
        "\n",
        "  model_output.backward()\n",
        "\n",
        "  print(weights.grad)\n",
        "\n",
        "  weights.grad.zero_()"
      ],
      "metadata": {
        "colab": {
          "base_uri": "https://localhost:8080/"
        },
        "id": "3wo2bZRoCrqC",
        "outputId": "3ffcfac6-9f9c-4a82-8581-213a8117dcb1"
      },
      "execution_count": 26,
      "outputs": [
        {
          "output_type": "stream",
          "name": "stdout",
          "text": [
            "tensor([3., 3., 3., 3.])\n",
            "tensor([3., 3., 3., 3.])\n",
            "tensor([3., 3., 3., 3.])\n"
          ]
        }
      ]
    }
  ]
}